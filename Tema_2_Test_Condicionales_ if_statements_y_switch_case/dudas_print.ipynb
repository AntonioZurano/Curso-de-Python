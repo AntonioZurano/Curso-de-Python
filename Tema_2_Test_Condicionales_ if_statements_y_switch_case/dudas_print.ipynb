{
 "cells": [
  {
   "cell_type": "code",
   "execution_count": 1,
   "metadata": {},
   "outputs": [
    {
     "name": "stdout",
     "output_type": "stream",
     "text": [
      "Hola Antonio\n"
     ]
    }
   ],
   "source": [
    "nombre = 'Antonio'\n",
    "print('Hola', nombre)"
   ]
  },
  {
   "cell_type": "markdown",
   "metadata": {},
   "source": [
    "# Concatenar varias cadenas de caracteres\n"
   ]
  },
  {
   "cell_type": "code",
   "execution_count": 2,
   "metadata": {},
   "outputs": [
    {
     "name": "stdout",
     "output_type": "stream",
     "text": [
      "Hola, Antonio!\n"
     ]
    }
   ],
   "source": [
    "nombre = 'Antonio'\n",
    "mensaje = \"Hola, \" + nombre + \"!\"\n",
    "print(mensaje)"
   ]
  },
  {
   "cell_type": "code",
   "execution_count": null,
   "metadata": {},
   "outputs": [],
   "source": [
    "edad = 30\n",
    "mensaje = \"Tienes \" + str(edad) + \" años!\""
   ]
  },
  {
   "cell_type": "code",
   "execution_count": null,
   "metadata": {},
   "outputs": [],
   "source": [
    "edad=30\n",
    "print(f\"Tienes {edad} años!\") # Python 3.6+\n",
    "# f = formatted string literals\n",
    "# {} = replacement field o campo de reemplazo\n",
    "# La expresión entre llaves se evalúa y se convierte en una cadena de texto"
   ]
  }
 ],
 "metadata": {
  "kernelspec": {
   "display_name": "work",
   "language": "python",
   "name": "python3"
  },
  "language_info": {
   "codemirror_mode": {
    "name": "ipython",
    "version": 3
   },
   "file_extension": ".py",
   "mimetype": "text/x-python",
   "name": "python",
   "nbconvert_exporter": "python",
   "pygments_lexer": "ipython3",
   "version": "3.10.14"
  }
 },
 "nbformat": 4,
 "nbformat_minor": 2
}
