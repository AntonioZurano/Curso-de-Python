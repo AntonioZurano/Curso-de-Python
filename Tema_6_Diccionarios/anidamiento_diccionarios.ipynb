{
 "cells": [
  {
   "cell_type": "markdown",
   "metadata": {},
   "source": [
    "### #22. Crea un diccionario llamado \"productos\" que contenga dos entradas. Cada entrada representa un producto y tiene a su vez las claves \"nombre\" y \"precio\" con ### sus respectivos valores. Recorre el diccionario e imprime el nombre y el precio de cada producto."
   ]
  },
  {
   "cell_type": "code",
   "execution_count": 3,
   "metadata": {},
   "outputs": [
    {
     "name": "stdout",
     "output_type": "stream",
     "text": [
      "Producto: manzanas Precio: 10\n",
      "Producto: arandanos Precio: 15\n"
     ]
    }
   ],
   "source": [
    "productos = {\n",
    "    \"producto1\": {\"nombre\": \"manzanas\", \"precio\": 10},\n",
    "    \"producto2\": {\"nombre\": \"arandanos\", \"precio\": 15},\n",
    "}\n",
    "\n",
    "for clave, valor in productos.items():\n",
    "    nombre = valor[\"nombre\"]\n",
    "    precio = valor[\"precio\"]\n",
    "\n",
    "    print(\"Producto:\", nombre, \"Precio:\", precio)\n"
   ]
  },
  {
   "cell_type": "markdown",
   "metadata": {},
   "source": [
    "### #23. Agrega un nuevo producto al diccionario \"productos\" utilizando una nueva clave y\n",
    "### valor. Imprime el diccionario actualizado."
   ]
  },
  {
   "cell_type": "code",
   "execution_count": 5,
   "metadata": {},
   "outputs": [
    {
     "name": "stdout",
     "output_type": "stream",
     "text": [
      "{'producto1': {'nombre': 'manzanas', 'precio': 10}, 'producto2': {'nombre': 'arandanos', 'precio': 15}, 'Producto3': {'nombre': 'peras', 'precio': 20}}\n"
     ]
    }
   ],
   "source": [
    "productos[\"Producto3\"] = {\"nombre\": \"peras\", \"precio\": 20}\n",
    "print (productos)"
   ]
  },
  {
   "cell_type": "markdown",
   "metadata": {},
   "source": [
    "### #24. Crea un diccionario llamado \"equipos\" que contenga tres entradas. Cada entrada\n",
    "### representa un equipo deportivo y tiene las claves \"nombre\" y \"jugadores\" con sus\n",
    "### respectivos valores. Los valores de \"jugadores\" deben ser listas con los nombres de\n",
    "### los jugadores. Recorre el diccionario e imprime el nombre del equipo y la lista de\n",
    "### jugadores."
   ]
  },
  {
   "cell_type": "code",
   "execution_count": 4,
   "metadata": {},
   "outputs": [
    {
     "name": "stdout",
     "output_type": "stream",
     "text": [
      "Del equipo: Real Madrid sus Jugadores son: ['jugador1', 'jugador2', 'jugador3']\n",
      "Del equipo: Barcelona sus Jugadores son: ['jugador4', 'jugador5', 'jugador6']\n",
      "Del equipo: Atletico de Madrid sus Jugadores son: ['jugador7', 'jugador8', 'jugador9']\n",
      "---------------------\n",
      "Del equipo: Real Madrid sus Jugadores son: ['jugador1', 'jugador2', 'jugador3']\n",
      "Del equipo: Barcelona sus Jugadores son: ['jugador4', 'jugador5', 'jugador6']\n",
      "Del equipo: Atletico de Madrid sus Jugadores son: ['jugador7', 'jugador8', 'jugador9']\n"
     ]
    }
   ],
   "source": [
    "equipos = { \n",
    "    \"equipo1\": {\"nombre\": \"Real Madrid\", \"jugadores\": [\"jugador1\", \"jugador2\", \"jugador3\"]},\n",
    "    \"equipo2\": {\"nombre\": \"Barcelona\", \"jugadores\": [\"jugador4\", \"jugador5\", \"jugador6\"]},\n",
    "    \"equipo3\": {\"nombre\": \"Atletico de Madrid\", \"jugadores\": [\"jugador7\", \"jugador8\", \"jugador9\"]},\n",
    "}\n",
    "\n",
    "for clave, valor in equipos.items():\n",
    "    nombre_equipo = valor[\"nombre\"]\n",
    "    jugadores = valor[\"jugadores\"]\n",
    "\n",
    "    print(\"Del equipo:\", nombre_equipo, \"sus Jugadores son:\", jugadores)\n",
    "# Otra forma de hacerlo\n",
    "print(\"---------------------\")\n",
    "for valor in equipos.values():\n",
    "    nombre_equipo = valor[\"nombre\"]\n",
    "    jugadores = valor[\"jugadores\"]\n",
    "\n",
    "    print(\"Del equipo:\", nombre_equipo, \"sus Jugadores son:\", jugadores)"
   ]
  },
  {
   "cell_type": "markdown",
   "metadata": {},
   "source": [
    "### #25. Agrega un nuevo equipo al diccionario \"equipos\" utilizando una nueva clave y valor.\n",
    "### La lista de jugadores debe contener al menos tres nombres. Imprime el diccionario\n",
    "### actualizado."
   ]
  },
  {
   "cell_type": "code",
   "execution_count": 5,
   "metadata": {},
   "outputs": [
    {
     "name": "stdout",
     "output_type": "stream",
     "text": [
      "{'equipo1': {'nombre': 'Real Madrid', 'jugadores': ['jugador1', 'jugador2', 'jugador3']}, 'equipo2': {'nombre': 'Barcelona', 'jugadores': ['jugador4', 'jugador5', 'jugador6']}, 'equipo3': {'nombre': 'Atletico de Madrid', 'jugadores': ['jugador7', 'jugador8', 'jugador9']}, 'equipo4': {'nombre': 'Sevilla', 'jugadores': ['jugador10', 'jugador11', 'jugador12']}}\n"
     ]
    }
   ],
   "source": [
    "equipos[\"equipo4\"] = {\"nombre\": \"Sevilla\", \"jugadores\": [\"jugador10\", \"jugador11\", \"jugador12\"]}\n",
    "print (equipos) "
   ]
  },
  {
   "cell_type": "markdown",
   "metadata": {},
   "source": [
    "### #26.  Actualiza la lista de jugadores de uno de los equipos existentes en el diccionario\n",
    "### \"equipos\". Agrega un nuevo jugador a la lista. Imprime el diccionario actualizado."
   ]
  },
  {
   "cell_type": "code",
   "execution_count": 9,
   "metadata": {},
   "outputs": [
    {
     "name": "stdout",
     "output_type": "stream",
     "text": [
      "<class 'list'>\n",
      "{'equipo1': {'nombre': 'Real Madrid', 'jugadores': ['jugador1', 'jugador2', 'jugador3', 'jugador13', 'jugador13']}, 'equipo2': {'nombre': 'Barcelona', 'jugadores': ['jugador4', 'jugador5', 'jugador6']}, 'equipo3': {'nombre': 'Atletico de Madrid', 'jugadores': ['jugador7', 'jugador8', 'jugador9']}, 'equipo4': {'nombre': 'Sevilla', 'jugadores': ['jugador10', 'jugador11', 'jugador12']}}\n",
      "['jugador1', 'jugador2', 'jugador3', 'jugador13', 'jugador13']\n"
     ]
    }
   ],
   "source": [
    "print(type(equipos[\"equipo1\"][\"jugadores\"]))\n",
    "equipos[\"equipo1\"][\"jugadores\"].append(\"jugador13\")\n",
    "print(equipos)\n",
    "print(equipos[\"equipo1\"][\"jugadores\"])"
   ]
  }
 ],
 "metadata": {
  "kernelspec": {
   "display_name": "Python 3",
   "language": "python",
   "name": "python3"
  },
  "language_info": {
   "codemirror_mode": {
    "name": "ipython",
    "version": 3
   },
   "file_extension": ".py",
   "mimetype": "text/x-python",
   "name": "python",
   "nbconvert_exporter": "python",
   "pygments_lexer": "ipython3",
   "version": "3.10.14"
  }
 },
 "nbformat": 4,
 "nbformat_minor": 2
}
