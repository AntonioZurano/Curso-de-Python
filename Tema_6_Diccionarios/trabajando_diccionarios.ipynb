{
 "cells": [
  {
   "cell_type": "markdown",
   "metadata": {},
   "source": [
    "#### #1. Crea un diccionario vacio llamado \"mi_diccionario\""
   ]
  },
  {
   "cell_type": "code",
   "execution_count": 1,
   "metadata": {},
   "outputs": [
    {
     "name": "stdout",
     "output_type": "stream",
     "text": [
      "<class 'dict'>\n"
     ]
    }
   ],
   "source": [
    "mi_diccionario = {}\n",
    "print(type(mi_diccionario))"
   ]
  },
  {
   "cell_type": "markdown",
   "metadata": {},
   "source": [
    "#### #2. Agrega un par clave-valor a \"mi_diccionario\". La clave es \"nombre\" y el valor sea  tu nombre."
   ]
  },
  {
   "cell_type": "code",
   "execution_count": 7,
   "metadata": {},
   "outputs": [
    {
     "name": "stdout",
     "output_type": "stream",
     "text": [
      "{'nombre': 'Antonio'}\n",
      "<class 'dict'>\n"
     ]
    }
   ],
   "source": [
    "mi_diccionario[\"nombre\"] = \"Antonio\"\n",
    "print(mi_diccionario)\n",
    "print(type(mi_diccionario))"
   ]
  },
  {
   "cell_type": "markdown",
   "metadata": {},
   "source": [
    "#### #3. Accede e imprime el valor asociado con la clave \"nombre\" en “mi_diccionario\"."
   ]
  },
  {
   "cell_type": "code",
   "execution_count": 8,
   "metadata": {},
   "outputs": [
    {
     "name": "stdout",
     "output_type": "stream",
     "text": [
      "Antonio\n"
     ]
    }
   ],
   "source": [
    "mi_diccionario[\"nombre\"] = \"Antonio\"\n",
    "print(mi_diccionario[\"nombre\"])\n"
   ]
  },
  {
   "cell_type": "markdown",
   "metadata": {},
   "source": [
    "#### #4. Verifica si la clave \"edad\" existe en \"mi_diccionario\". Imprime \"true\" si existe, de lo contrario imprime \"false\"."
   ]
  },
  {
   "cell_type": "code",
   "execution_count": 9,
   "metadata": {},
   "outputs": [
    {
     "name": "stdout",
     "output_type": "stream",
     "text": [
      "False\n"
     ]
    }
   ],
   "source": [
    "print(\"edad\" in mi_diccionario) ## True si existe la clave en el diccionario y False si no existe"
   ]
  },
  {
   "cell_type": "markdown",
   "metadata": {},
   "source": [
    "#### #5. Crea un diccionario llamado \"estudiante\" con los siguientes pares clave-valor:\n",
    "#### \"nombre\" con el nombre del alumno, \"edad\" con su edad y \"materia\" con su materia\n",
    "#### favorita."
   ]
  },
  {
   "cell_type": "code",
   "execution_count": 16,
   "metadata": {},
   "outputs": [
    {
     "name": "stdout",
     "output_type": "stream",
     "text": [
      "{'nombre': 'antonio', 'edad': 22, 'materia': 'matemáticas'}\n"
     ]
    }
   ],
   "source": [
    "estudiante = {\n",
    "    \"nombre\": \"antonio\",\n",
    "    \"edad\": 22,\n",
    "    \"materia\": \"matemáticas\",\n",
    "}\n",
    "print(estudiante)"
   ]
  },
  {
   "cell_type": "markdown",
   "metadata": {},
   "source": [
    "#### #6. Actualiza el valor de la clave \"edad\" en el diccionario \"estudiante\" para reflejar la edad\n",
    "actual de tu amigo."
   ]
  },
  {
   "cell_type": "code",
   "execution_count": 13,
   "metadata": {},
   "outputs": [
    {
     "name": "stdout",
     "output_type": "stream",
     "text": [
      "{'nombre': 'antonio', 'edad': 24, 'materia': 'matemáticas'}\n"
     ]
    }
   ],
   "source": [
    "estudiante[\"edad\"] = 24 #update del valor de la clave edad en el diccionario de estudiante\n",
    "print(estudiante)\n"
   ]
  },
  {
   "cell_type": "markdown",
   "metadata": {},
   "source": [
    "#### #7.Elimina el par clave-valor con la clave \"materia\" del diccionario “estudiante\"."
   ]
  },
  {
   "cell_type": "code",
   "execution_count": 21,
   "metadata": {},
   "outputs": [
    {
     "name": "stdout",
     "output_type": "stream",
     "text": [
      "{'nombre': 'antonio', 'edad': 22}\n",
      "matemáticas\n",
      "{'nombre': 'antonio', 'edad': 22}\n"
     ]
    }
   ],
   "source": [
    "estudiante = {\n",
    "    \"nombre\": \"antonio\",\n",
    "    \"edad\": 22,\n",
    "    \"materia\": \"matemáticas\",\n",
    "}\n",
    "del estudiante[\"materia\"]\n",
    "print(estudiante)\n",
    "# otra forma\n",
    "estudiante = {\n",
    "    \"nombre\": \"antonio\",\n",
    "    \"edad\": 22,\n",
    "    \"materia\": \"matemáticas\",\n",
    "}\n",
    "valor_materia = estudiante.pop(\"materia\")\n",
    "print(valor_materia)\n",
    "print(estudiante)\n",
    "\n"
   ]
  },
  {
   "cell_type": "markdown",
   "metadata": {},
   "source": [
    "#### #8. Imprime todas las claves en el diccionario “estudiante\"."
   ]
  },
  {
   "cell_type": "code",
   "execution_count": 22,
   "metadata": {},
   "outputs": [
    {
     "name": "stdout",
     "output_type": "stream",
     "text": [
      "nombre\n",
      "edad\n",
      "materia\n"
     ]
    }
   ],
   "source": [
    "estudiante = {\n",
    "    \"nombre\": \"antonio\",\n",
    "    \"edad\": 22,\n",
    "    \"materia\": \"matemáticas\",\n",
    "}\n",
    "for clave in estudiante:\n",
    "    print(clave)\n",
    "    #print(estudiante[clave])"
   ]
  },
  {
   "cell_type": "markdown",
   "metadata": {},
   "source": [
    "### #9. Crea un diccionario llamado \"agenda\" con tres entradas: \"Juan\" con el valor\n",
    "### \"1234567890\", \"Joana\" con el valor \"9876543210\" y \"Jimena\" con el valor\n",
    "### “5555555555”."
   ]
  },
  {
   "cell_type": "code",
   "execution_count": null,
   "metadata": {},
   "outputs": [
    {
     "name": "stdout",
     "output_type": "stream",
     "text": [
      "Juan 1234567890\n",
      "Joana 9876543210\n",
      "Jimena 5555555555\n",
      "{'Juan': '1234567890', 'Joana': '9876543210', 'Jimena': '5555555555'}\n"
     ]
    }
   ],
   "source": [
    "agenda = {\n",
    "    \"Juan\": \"1234567890\",\n",
    "    \"Joana\": \"9876543210\",\n",
    "    \"Jimena\": \"5555555555\",\n",
    "}\n",
    "for contacto in agenda:    #contacto es la clave y recorre las claves del diccionario agenda\n",
    "    print(contacto, agenda[contacto])\n",
    "print(agenda)    "
   ]
  },
  {
   "cell_type": "markdown",
   "metadata": {},
   "source": [
    "### #10. Agrega una nueva entrada al diccionario \"agenda\" con la clave \"Julio\" y el valor \"9998887777\". "
   ]
  },
  {
   "cell_type": "code",
   "execution_count": 24,
   "metadata": {},
   "outputs": [
    {
     "name": "stdout",
     "output_type": "stream",
     "text": [
      "{'Juan': '1234567890', 'Joana': '9876543210', 'Jimena': '5555555555', 'Julio': '9998887777'}\n"
     ]
    }
   ],
   "source": [
    "agenda[\"Julio\"] = \"9998887777\"\n",
    "print(agenda)"
   ]
  },
  {
   "cell_type": "markdown",
   "metadata": {},
   "source": [
    "### #11. Imprime el número de entradas (pares clave-valores) en el diccionario \"agenda\"."
   ]
  },
  {
   "cell_type": "code",
   "execution_count": 25,
   "metadata": {},
   "outputs": [
    {
     "name": "stdout",
     "output_type": "stream",
     "text": [
      "4\n"
     ]
    }
   ],
   "source": [
    "print(len(agenda)) #imprime la cantidad de elementos del diccionario"
   ]
  },
  {
   "cell_type": "markdown",
   "metadata": {},
   "source": [
    "### #12.  Crea una lista llamada \"claves\" que contenga todas las claves del diccionario\n",
    "### “agenda\"."
   ]
  },
  {
   "cell_type": "code",
   "execution_count": 26,
   "metadata": {},
   "outputs": [
    {
     "name": "stdout",
     "output_type": "stream",
     "text": [
      "['Juan', 'Joana', 'Jimena', 'Julio']\n"
     ]
    }
   ],
   "source": [
    "claves = list(agenda.keys())\n",
    "print(claves)"
   ]
  },
  {
   "cell_type": "markdown",
   "metadata": {},
   "source": [
    "### #13.  Verifica si la clave \"Juan\" existe en el diccionario \"agenda\". Imprime \"true\" si existe, de lo contrario imprime \"false\"."
   ]
  },
  {
   "cell_type": "code",
   "execution_count": null,
   "metadata": {},
   "outputs": [],
   "source": []
  }
 ],
 "metadata": {
  "kernelspec": {
   "display_name": "Python 3",
   "language": "python",
   "name": "python3"
  },
  "language_info": {
   "codemirror_mode": {
    "name": "ipython",
    "version": 3
   },
   "file_extension": ".py",
   "mimetype": "text/x-python",
   "name": "python",
   "nbconvert_exporter": "python",
   "pygments_lexer": "ipython3",
   "version": "3.10.14"
  }
 },
 "nbformat": 4,
 "nbformat_minor": 2
}
