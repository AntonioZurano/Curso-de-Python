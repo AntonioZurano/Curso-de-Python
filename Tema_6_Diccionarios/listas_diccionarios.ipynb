{
 "cells": [
  {
   "cell_type": "markdown",
   "metadata": {},
   "source": [
    "### #18. Crea una lista llamada \"estudiantes\" que contenga dos diccionarios. Cada diccionario representa a un estudiante\n",
    "### y tiene las claves  \"nombre\" y \"edad\" con sus respectivos valores. Recorre la lista e imprime el nombre y la edad de cada estudiante."
   ]
  },
  {
   "cell_type": "code",
   "execution_count": null,
   "metadata": {},
   "outputs": [
    {
     "name": "stdout",
     "output_type": "stream",
     "text": [
      "Juan tiene 25 años\n",
      "Antonio tiene 20 años\n"
     ]
    }
   ],
   "source": [
    "estudiantes = [\n",
    "    {\"nombre\": \"Juan\",\"edad\": 25,},\n",
    "    {\"nombre\": \"Antonio\",\"edad\" : 20,}\n",
    "]\n",
    "#Forma 1\n",
    "for estudiante in estudiantes:\n",
    "    print(estudiante[\"nombre\"], \"tiene\", estudiante[\"edad\"], \"años\")\n",
    "#Forma 2\n",
    "for estudiante in estudiantes:\n",
    "    nombre = estudiante[\"nombre\"]\n",
    "    edad = estudiante[\"edad\"]\n",
    "    print(nombre, \"tiene\", edad, \"años\")\n"
   ]
  },
  {
   "cell_type": "markdown",
   "metadata": {},
   "source": [
    "### #19.  Agrega un nuevo estudiante a la lista \"estudiantes\" utilizando un diccionario con las\n",
    "### mismas claves \"nombre\" y \"edad\". Imprime la lista actualizada."
   ]
  },
  {
   "cell_type": "code",
   "execution_count": null,
   "metadata": {},
   "outputs": [
    {
     "name": "stdout",
     "output_type": "stream",
     "text": [
      "Juan tiene 25 años\n",
      "Antonio tiene 20 años\n",
      "Pedro tiene 30 años\n"
     ]
    }
   ],
   "source": [
    "estudiantes.append({\"nombre\": \"Pedro\", \"edad\": 30})\n",
    "print(estudiantes)\n",
    "for estudiante in estudiantes:\n",
    "    print(estudiante[\"nombre\"], \"tiene\", estudiante[\"edad\"], \"años\")\n"
   ]
  },
  {
   "cell_type": "markdown",
   "metadata": {},
   "source": [
    "### #20. Elimina el segundo estudiante de la lista \"estudiantes\" e imprime la lista actualizada."
   ]
  },
  {
   "cell_type": "code",
   "execution_count": 5,
   "metadata": {},
   "outputs": [
    {
     "name": "stdout",
     "output_type": "stream",
     "text": [
      "[{'nombre': 'Juan', 'edad': 25}, {'nombre': 'Pedro', 'edad': 30}]\n"
     ]
    }
   ],
   "source": [
    "# estudiantes es una lista\n",
    "# eliminar el segundo elemento de la lista -- indice 1\n",
    "del estudiantes[1]\n",
    "print(estudiantes)"
   ]
  },
  {
   "cell_type": "markdown",
   "metadata": {},
   "source": [
    "### #21. Actualiza la edad del primer estudiante en la lista \"estudiantes\" a un nuevo valor e imprime la lista actualizada."
   ]
  },
  {
   "cell_type": "code",
   "execution_count": 7,
   "metadata": {},
   "outputs": [
    {
     "name": "stdout",
     "output_type": "stream",
     "text": [
      "[{'nombre': 'Juan Gabriel', 'edad': 23}, {'nombre': 'Pedro', 'edad': 30}]\n",
      "Juan Gabriel tiene 23 años\n"
     ]
    }
   ],
   "source": [
    "# primer estudiante tendra indice 0\n",
    "estudiantes[0][\"edad\"] = 23\n",
    "print(estudiantes)\n",
    "print(estudiantes[0][\"nombre\"], \"tiene\", estudiantes[0][\"edad\"], \"años\")"
   ]
  }
 ],
 "metadata": {
  "kernelspec": {
   "display_name": "Python 3",
   "language": "python",
   "name": "python3"
  },
  "language_info": {
   "codemirror_mode": {
    "name": "ipython",
    "version": 3
   },
   "file_extension": ".py",
   "mimetype": "text/x-python",
   "name": "python",
   "nbconvert_exporter": "python",
   "pygments_lexer": "ipython3",
   "version": "3.10.14"
  }
 },
 "nbformat": 4,
 "nbformat_minor": 2
}
