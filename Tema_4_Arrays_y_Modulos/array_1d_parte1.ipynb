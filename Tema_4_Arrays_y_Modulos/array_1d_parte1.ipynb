{
 "cells": [
  {
   "cell_type": "markdown",
   "metadata": {},
   "source": [
    "1. Crea un array_1 lleno de 0s de tamaño 8"
   ]
  },
  {
   "cell_type": "code",
   "execution_count": 2,
   "metadata": {},
   "outputs": [
    {
     "name": "stdout",
     "output_type": "stream",
     "text": [
      "[0. 0. 0. 0. 0. 0. 0. 0.]\n"
     ]
    }
   ],
   "source": [
    "#realizar los imports necesarios\n",
    "import numpy as np\n",
    "\n",
    "# crear array\n",
    "array_1 = np.zeros(8)\n",
    "print(array_1)\n"
   ]
  },
  {
   "cell_type": "markdown",
   "metadata": {},
   "source": [
    "2. Haz que todos los elementos de este array sean igual a 2"
   ]
  },
  {
   "cell_type": "code",
   "execution_count": 3,
   "metadata": {},
   "outputs": [
    {
     "name": "stdout",
     "output_type": "stream",
     "text": [
      "array original [0. 0. 0. 0. 0. 0. 0. 0.]\n",
      "array modificado [2. 2. 2. 2. 2. 2. 2. 2.]\n"
     ]
    }
   ],
   "source": [
    "#realizar los imports necesarios\n",
    "import numpy as np\n",
    "\n",
    "# crear array\n",
    "array_1 = np.zeros(8)\n",
    "print(\"array original\",array_1)\n",
    "\n",
    "# cambiar valores a 2\n",
    "array_1[:] = 2\n",
    "print(\"array modificado\",array_1)"
   ]
  },
  {
   "cell_type": "markdown",
   "metadata": {},
   "source": [
    "### 3 Crea un array_2 que contenga todos los numeros pares del 1 al 10\n",
    "\n"
   ]
  },
  {
   "cell_type": "code",
   "execution_count": 4,
   "metadata": {},
   "outputs": [
    {
     "name": "stdout",
     "output_type": "stream",
     "text": [
      "[ 2  4  6  8 10]\n"
     ]
    }
   ],
   "source": [
    "import numpy as np\n",
    "\n",
    "# creamos el array \n",
    "array_2 = np.arange(2,11,2)\n",
    "print(array_2)\n"
   ]
  },
  {
   "cell_type": "markdown",
   "metadata": {},
   "source": [
    "### 4. Suma todos los elementos de array_2 usando un bucle y después usando la función sum()\n"
   ]
  },
  {
   "cell_type": "code",
   "execution_count": 4,
   "metadata": {},
   "outputs": [
    {
     "name": "stdout",
     "output_type": "stream",
     "text": [
      "suma con bucle 30\n",
      "suma con numpy 30\n",
      "Los resultados son iguales\n"
     ]
    }
   ],
   "source": [
    "import numpy as np\n",
    "\n",
    "# creamos el array \n",
    "array_2 = np.arange(2,11,2)\n",
    "\n",
    "# sumar elementos usando un bucle\n",
    "suma_bucle = 0\n",
    "for numero in array_2:\n",
    "    suma_bucle += numero\n",
    "print(\"suma con bucle\",suma_bucle)\n",
    "\n",
    "#sumar usando Numpy\n",
    "suma_numpy = np.sum(array_2)\n",
    "print(\"suma con numpy\",suma_numpy)\n",
    "\n",
    "# comparar los resultados\n",
    "if suma_bucle == suma_numpy:\n",
    "    print(\"Los resultados son iguales\")\n",
    "else:\n",
    "    print(\"Los resultados son diferentes\")\n",
    "\n"
   ]
  },
  {
   "cell_type": "markdown",
   "metadata": {},
   "source": [
    "5. revierte array_2 y guárdalo en una variable independiente."
   ]
  },
  {
   "cell_type": "code",
   "execution_count": 8,
   "metadata": {},
   "outputs": [
    {
     "name": "stdout",
     "output_type": "stream",
     "text": [
      "array original [ 2  4  6  8 10]\n",
      "Array revertido [10  8  6  4  2]\n",
      "Array revertido nuevo [2 2 2 2 2]\n",
      "Array original nuevo [ 2  4  6  8 10]\n"
     ]
    }
   ],
   "source": [
    "import numpy as np\n",
    "\n",
    "array_2 = np.arange(2,11,2)\n",
    "print(\"array original\",array_2)\n",
    "\n",
    "# definir array_2_revertido [:] hace que se cree un array independiente\n",
    "array_2_revertido[:] = array_2[::-1]\n",
    "\n",
    "# creamos array revertido independiente\n",
    "array_2_revertido[:] = array_2[::-1]\n",
    "print(\"Array revertido\", array_2_revertido)\n",
    "\n",
    "# comprobamos que son independientes\n",
    "# cambiar valores a 2\n",
    "array_2_revertido[:] = 2\n",
    "print(\"Array revertido nuevo\", array_2_revertido)\n",
    "print(\"Array original nuevo\", array_2)\n"
   ]
  },
  {
   "cell_type": "markdown",
   "metadata": {},
   "source": [
    "6. Encuentra los elementos comunes entre array_1 y array_2 y entre array_2 y array_2_invertido"
   ]
  },
  {
   "cell_type": "code",
   "execution_count": 4,
   "metadata": {},
   "outputs": [
    {
     "name": "stdout",
     "output_type": "stream",
     "text": [
      "[2. 2. 2. 2. 2. 2. 2. 2.]\n",
      "[ 2  4  6  8 10]\n",
      "[10  8  6  4  2]\n",
      "Elementos comunes entre array_1 y array_2: [2.]\n",
      "Elementos comunes entre array_1 y array_2_revertido: [2.]\n"
     ]
    }
   ],
   "source": [
    "import numpy as np\n",
    "\n",
    "# creamos el array\n",
    "array_2 = np.arange(2, 11, 2)\n",
    "array_2_revertido = array_2[::-1].copy()  # Definimos array_2_revertido como una copia independiente de array_2\n",
    "array_1 = np.zeros(8)\n",
    "array_1[:] = 2\n",
    "\n",
    "print(array_1)\n",
    "print(array_2)\n",
    "print(array_2_revertido)\n",
    "\n",
    "# intersectar arrays con array_1 y array_2\n",
    "\n",
    "interseccion_1 = np.intersect1d(array_1, array_2)\n",
    "print(\"Elementos comunes entre array_1 y array_2:\", interseccion_1) \n",
    "\n",
    "# intersectar arrays con array_1 y array_2_revertido\n",
    "\n",
    "interseccion_2 = np.intersect1d(array_1, array_2_revertido)\n",
    "print(\"Elementos comunes entre array_1 y array_2_revertido:\", interseccion_2) \n"
   ]
  }
 ],
 "metadata": {
  "kernelspec": {
   "display_name": "work",
   "language": "python",
   "name": "python3"
  },
  "language_info": {
   "codemirror_mode": {
    "name": "ipython",
    "version": 3
   },
   "file_extension": ".py",
   "mimetype": "text/x-python",
   "name": "python",
   "nbconvert_exporter": "python",
   "pygments_lexer": "ipython3",
   "version": "3.10.14"
  }
 },
 "nbformat": 4,
 "nbformat_minor": 2
}
