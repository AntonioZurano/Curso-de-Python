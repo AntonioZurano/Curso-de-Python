{
 "cells": [
  {
   "cell_type": "markdown",
   "metadata": {},
   "source": [
    "#### 1. Crea un array con 15 números enteros aleatorios entre 1 y 100"
   ]
  },
  {
   "cell_type": "code",
   "execution_count": 1,
   "metadata": {},
   "outputs": [
    {
     "name": "stdout",
     "output_type": "stream",
     "text": [
      "[29 25 73 75 27 63 40 88 29 10 83 48 54 34 66]\n"
     ]
    }
   ],
   "source": [
    "# importar modulos necesarios\n",
    "import numpy as np\n",
    "\n",
    "array_random = np.random.randint(1, 101, size=15)\n",
    "\n",
    "print(array_random)\n",
    "\n"
   ]
  },
  {
   "cell_type": "markdown",
   "metadata": {},
   "source": [
    "#### 2. Multiplica todos los elementos del array usando un bucle y después usando un método de numpy. Compara los resultados."
   ]
  },
  {
   "cell_type": "code",
   "execution_count": 4,
   "metadata": {},
   "outputs": [
    {
     "name": "stdout",
     "output_type": "stream",
     "text": [
      "[99 93 64 88 47 70 57 79 56 64 61 23 69 80 20]\n",
      "Multiplicacion con bucle:  -2486267358264426496\n"
     ]
    },
    {
     "name": "stderr",
     "output_type": "stream",
     "text": [
      "/tmp/ipykernel_6777/2655316964.py:11: RuntimeWarning: overflow encountered in scalar multiply\n",
      "  multi_bucle = multi_bucle * numero\n"
     ]
    }
   ],
   "source": [
    "# importar modulos necesarios\n",
    "import numpy as np\n",
    "\n",
    "# creamos array con numeros aleatorios entre el 1 y el 100\n",
    "array_random = np.random.randint(1, 101, size=15)\n",
    "print(array_random)\n",
    "\n",
    "multi_bucle = 1\n",
    "# Multiplicacion usando un bucle\n",
    "for numero in array_random:\n",
    "    multi_bucle = multi_bucle * numero\n",
    "\n",
    "print(\"Multiplicacion con bucle: \", multi_bucle)"
   ]
  }
 ],
 "metadata": {
  "kernelspec": {
   "display_name": "work",
   "language": "python",
   "name": "python3"
  },
  "language_info": {
   "codemirror_mode": {
    "name": "ipython",
    "version": 3
   },
   "file_extension": ".py",
   "mimetype": "text/x-python",
   "name": "python",
   "nbconvert_exporter": "python",
   "pygments_lexer": "ipython3",
   "version": "3.10.14"
  }
 },
 "nbformat": 4,
 "nbformat_minor": 2
}
