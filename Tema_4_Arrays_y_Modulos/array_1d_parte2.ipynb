{
 "cells": [
  {
   "cell_type": "markdown",
   "metadata": {},
   "source": [
    "#### 1. Crea un array con 15 números enteros aleatorios entre 1 y 100"
   ]
  },
  {
   "cell_type": "code",
   "execution_count": 1,
   "metadata": {},
   "outputs": [
    {
     "name": "stdout",
     "output_type": "stream",
     "text": [
      "[29 25 73 75 27 63 40 88 29 10 83 48 54 34 66]\n"
     ]
    }
   ],
   "source": [
    "# importar modulos necesarios\n",
    "import numpy as np\n",
    "\n",
    "array_random = np.random.randint(1, 101, size=15)\n",
    "\n",
    "print(array_random)\n",
    "\n"
   ]
  },
  {
   "cell_type": "markdown",
   "metadata": {},
   "source": [
    "#### 2. Multiplica todos los elementos del array usando un bucle y después usando un método de numpy. Compara los resultados."
   ]
  },
  {
   "cell_type": "code",
   "execution_count": 7,
   "metadata": {},
   "outputs": [
    {
     "name": "stdout",
     "output_type": "stream",
     "text": [
      "[ 68  62  19 100  75  58   6  71  22  18   1  43  12  80   8]\n",
      "Multiplicacion con bucle:  4326013209386680320\n",
      "Multiplicacion con numpy:  4326013209386680320\n"
     ]
    },
    {
     "name": "stderr",
     "output_type": "stream",
     "text": [
      "/tmp/ipykernel_6777/3123804653.py:11: RuntimeWarning: overflow encountered in scalar multiply\n",
      "  multi_bucle = multi_bucle * numero\n"
     ]
    }
   ],
   "source": [
    "# importar modulos necesarios\n",
    "import numpy as np\n",
    "\n",
    "# creamos array con numeros aleatorios entre el 1 y el 100\n",
    "array_random = np.random.randint(1, 101, size=15)\n",
    "print(array_random)\n",
    "\n",
    "multi_bucle = 1\n",
    "# Multiplicacion usando un bucle\n",
    "for numero in array_random:\n",
    "    multi_bucle = multi_bucle * numero\n",
    "\n",
    "print(\"Multiplicacion con bucle: \", multi_bucle)\n",
    "\n",
    "# Multiplicacion usando la funcion prod de numpy\n",
    "multi_numpy = np.prod(array_random)\n",
    "print(\"Multiplicacion con numpy: \", multi_numpy)\n"
   ]
  },
  {
   "cell_type": "markdown",
   "metadata": {},
   "source": [
    "#### 3. Crea otro array con 15 números decimales aleatorios entre 0 y 1"
   ]
  },
  {
   "cell_type": "code",
   "execution_count": 12,
   "metadata": {},
   "outputs": [
    {
     "name": "stdout",
     "output_type": "stream",
     "text": [
      "[0.97113699 0.9724788  0.84667352 0.6435315  0.44265838 0.53695792\n",
      " 0.46653369 0.19987629 0.05333323 0.53622319 0.64741237 0.14559878\n",
      " 0.26941638 0.61657208 0.93412227]\n"
     ]
    }
   ],
   "source": [
    "# importar modulos necesarios\n",
    "import numpy as np\n",
    "\n",
    "# creamos array con numeros aleatorios entre el 0 y el 1\n",
    "\n",
    "array_random = np.random.random(15)\n",
    "\n",
    "print(array_random)\n"
   ]
  },
  {
   "cell_type": "markdown",
   "metadata": {},
   "source": [
    "#### 4. Suma los elementos de ambos arrays elemento por elemento. Resuélvelo usando un operador y después usando un método de numpy. Compara los resultados."
   ]
  },
  {
   "cell_type": "code",
   "execution_count": 16,
   "metadata": {},
   "outputs": [
    {
     "name": "stdout",
     "output_type": "stream",
     "text": [
      "Array Random: [11  4  5 47 43 38 30 75 38 38 93 19 82 30 77]\n",
      "Array Decimales: [0.18933458 0.2286583  0.70830082 0.28458946 0.9357786  0.39234178\n",
      " 0.65969682 0.49101927 0.71030251 0.45353043 0.16065654 0.69464356\n",
      " 0.75500103 0.98162798 0.44850749]\n",
      "Suma con operador:  [11.18933458  4.2286583   5.70830082 47.28458946 43.9357786  38.39234178\n",
      " 30.65969682 75.49101927 38.71030251 38.45353043 93.16065654 19.69464356\n",
      " 82.75500103 30.98162798 77.44850749]\n",
      "Suma con numpy:  [11.18933458  4.2286583   5.70830082 47.28458946 43.9357786  38.39234178\n",
      " 30.65969682 75.49101927 38.71030251 38.45353043 93.16065654 19.69464356\n",
      " 82.75500103 30.98162798 77.44850749]\n"
     ]
    }
   ],
   "source": [
    "# importar modulos necesarios\n",
    "import numpy as np\n",
    "\n",
    "array_random = np.random.randint(1, 101, size=15)\n",
    "array_decimales = np.random.random(15)\n",
    "\n",
    "print(\"Array Random:\", array_random)\n",
    "print(\"Array Decimales:\", array_decimales)\n",
    "\n",
    "# Suma de los dos arrays usando operador\n",
    "\n",
    "suma_operador = array_random + array_decimales\n",
    "print(\"Suma con operador: \", suma_operador)\n",
    "\n",
    "# Suma de los dos arrays usando la funcion add de numpy\n",
    "suma_numpy = np.add(array_random, array_decimales)\n",
    "print(\"Suma con numpy: \", suma_numpy)"
   ]
  },
  {
   "cell_type": "markdown",
   "metadata": {},
   "source": [
    "#### 5. Ahora réstalos. Resuélvelo usando un operador y después usando un método de numpy. Compara los resultados."
   ]
  },
  {
   "cell_type": "code",
   "execution_count": 1,
   "metadata": {},
   "outputs": [
    {
     "name": "stdout",
     "output_type": "stream",
     "text": [
      "Array Random: [95 48 49 45 71 66 71  8 95  4  2 98 12 44 35]\n",
      "Array Decimales: [0.43237017 0.78178033 0.36926075 0.18814622 0.01909709 0.62211552\n",
      " 0.70413175 0.8916387  0.1921365  0.64934696 0.52435432 0.29504943\n",
      " 0.40093722 0.51207945 0.14372421]\n",
      "Resta con operador:  [94.56762983 47.21821967 48.63073925 44.81185378 70.98090291 65.37788448\n",
      " 70.29586825  7.1083613  94.8078635   3.35065304  1.47564568 97.70495057\n",
      " 11.59906278 43.48792055 34.85627579]\n",
      "Resta con numpy:  [94.56762983 47.21821967 48.63073925 44.81185378 70.98090291 65.37788448\n",
      " 70.29586825  7.1083613  94.8078635   3.35065304  1.47564568 97.70495057\n",
      " 11.59906278 43.48792055 34.85627579]\n"
     ]
    }
   ],
   "source": [
    "# importar modulos necesarios\n",
    "import numpy as np\n",
    "\n",
    "array_random = np.random.randint(1, 101, size=15)\n",
    "array_decimales = np.random.random(15)\n",
    "\n",
    "print(\"Array Random:\", array_random)\n",
    "print(\"Array Decimales:\", array_decimales)\n",
    "\n",
    "# Resta de los dos arrays usando operador\n",
    "\n",
    "resta_operador = array_random - array_decimales\n",
    "print(\"Resta con operador: \", resta_operador)\n",
    "\n",
    "# Resta de los dos arrays usando la funcion subtract de numpy\n",
    "resta_numpy = np.subtract(array_random, array_decimales)\n",
    "print(\"Resta con numpy: \", resta_numpy)\n"
   ]
  },
  {
   "cell_type": "markdown",
   "metadata": {},
   "source": [
    "#### 6. Haz lo mismo con la multiplicación elemento por elemento. Usa un operador y después con una función de numpy."
   ]
  },
  {
   "cell_type": "code",
   "execution_count": 2,
   "metadata": {},
   "outputs": [
    {
     "name": "stdout",
     "output_type": "stream",
     "text": [
      "Multiplicación con operador:  [ 9.99968829 14.4129415   5.92545786  7.00965346 62.23636841  2.97419853\n",
      "  6.37046723 23.09946836 25.94131067 29.21452698 47.70191447  0.27682254\n",
      " 39.68779822 28.13321926 13.01467905]\n",
      "Multiplicación con numpy:  [ 9.99968829 14.4129415   5.92545786  7.00965346 62.23636841  2.97419853\n",
      "  6.37046723 23.09946836 25.94131067 29.21452698 47.70191447  0.27682254\n",
      " 39.68779822 28.13321926 13.01467905]\n"
     ]
    }
   ],
   "source": [
    "# importar modulos necesarios\n",
    "import numpy as np\n",
    "\n",
    "array_random = np.random.randint(1, 101, size=15)\n",
    "array_decimales = np.random.random(15)\n",
    "\n",
    "# Multiplicacion de los dos arrays usando operador\n",
    "multiplicacion_operador = array_random * array_decimales\n",
    "print(\"Multiplicación con operador: \", multiplicacion_operador)\n",
    "\n",
    "# Multiplicacion de los dos arrays usando la funcion multiply de numpy\n",
    "multiplicacion_numpy = np.multiply(array_random, array_decimales)\n",
    "print(\"Multiplicación con numpy: \", multiplicacion_numpy)\n",
    "\n",
    "\n"
   ]
  }
 ],
 "metadata": {
  "kernelspec": {
   "display_name": "Python 3",
   "language": "python",
   "name": "python3"
  },
  "language_info": {
   "codemirror_mode": {
    "name": "ipython",
    "version": 3
   },
   "file_extension": ".py",
   "mimetype": "text/x-python",
   "name": "python",
   "nbconvert_exporter": "python",
   "pygments_lexer": "ipython3",
   "version": "3.10.14"
  }
 },
 "nbformat": 4,
 "nbformat_minor": 2
}
