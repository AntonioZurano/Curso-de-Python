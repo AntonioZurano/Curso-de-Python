{
 "cells": [
  {
   "cell_type": "markdown",
   "metadata": {},
   "source": [
    "#### 1. Crea un arrays lleno de 1s con una logitud dada por el usuario."
   ]
  },
  {
   "cell_type": "code",
   "execution_count": 2,
   "metadata": {},
   "outputs": [
    {
     "name": "stdout",
     "output_type": "stream",
     "text": [
      "[1. 1. 1. 1. 1. 1. 1. 1. 1.]\n"
     ]
    }
   ],
   "source": [
    "# importar modulos\n",
    "import numpy as np\n",
    "\n",
    "longitud = int(input(\"Ingrese la longitud del array: \"))\n",
    "\n",
    "# Crear un array de longitud n con valores 1\n",
    "array_ones = np.ones(longitud)\n",
    "\n",
    "print(array_ones)"
   ]
  },
  {
   "cell_type": "markdown",
   "metadata": {},
   "source": [
    "#### 2. Cambia la forma del array para que tenga una estructura de tipo (filas, columnas)."
   ]
  },
  {
   "cell_type": "code",
   "execution_count": 5,
   "metadata": {},
   "outputs": [
    {
     "name": "stdout",
     "output_type": "stream",
     "text": [
      "[1. 1. 1. 1. 1. 1. 1. 1. 1.]\n",
      "[[1. 1. 1.]\n",
      " [1. 1. 1.]\n",
      " [1. 1. 1.]]\n"
     ]
    }
   ],
   "source": [
    "#importar modulos\n",
    "import numpy as np\n",
    "\n",
    "longitud = int(input(\"Ingrese la longitud del array: \"))\n",
    "\n",
    "# Crear un array de longitud n con valores 1\n",
    "array_ones = np.ones(longitud)\n",
    "print(array_ones)\n",
    "\n",
    "# Pediendo al usuario la nueva forma del array\n",
    "filas = int(input(\"Ingrese el número de filas: \"))\n",
    "columnas = int(input(\"Ingrese el número de columnas: \"))\n",
    "\n",
    "# comprobamos que el reshape sea posible\n",
    "if filas * columnas == longitud:\n",
    "    # Cambiar la forma del array (reshape)\n",
    "    nuevo_array = array_ones.reshape(filas, columnas)\n",
    "    print(nuevo_array)\n",
    "else:\n",
    "    # indicamos que el producto de filas y columnas no es igual a la longitud del array\n",
    "    print(\"La cantidad de filas y columnas no es compatible con la longitud del array\")\n",
    "\n",
    "\n"
   ]
  }
 ],
 "metadata": {
  "kernelspec": {
   "display_name": "Python 3",
   "language": "python",
   "name": "python3"
  },
  "language_info": {
   "codemirror_mode": {
    "name": "ipython",
    "version": 3
   },
   "file_extension": ".py",
   "mimetype": "text/x-python",
   "name": "python",
   "nbconvert_exporter": "python",
   "pygments_lexer": "ipython3",
   "version": "3.10.14"
  }
 },
 "nbformat": 4,
 "nbformat_minor": 2
}
