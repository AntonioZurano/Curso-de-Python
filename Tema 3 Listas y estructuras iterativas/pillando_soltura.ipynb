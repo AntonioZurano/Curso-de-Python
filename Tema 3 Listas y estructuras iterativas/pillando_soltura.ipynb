{
 "cells": [
  {
   "cell_type": "markdown",
   "metadata": {},
   "source": [
    "1. Escribe un programa en Python para encontrar los elmentos duplicados de una lista, añadirlos a una nueva lista y borrarlos de la lista. Despues, imprime la lista con tan solo los elementos únicos."
   ]
  },
  {
   "cell_type": "code",
   "execution_count": 11,
   "metadata": {},
   "outputs": [
    {
     "name": "stdout",
     "output_type": "stream",
     "text": [
      "[1, 2, 3, 4, 5, 6, 7, 8, 9, 10, 1, 2, 3, 4, 5]\n",
      "Elementos duplicados: [1, 2, 3, 4, 5]\n",
      "Elementos unicos [6, 7, 8, 9, 10]\n",
      "Lista sin duplicados: [6, 7, 8, 9, 10, 1, 2, 3, 4, 5]\n"
     ]
    }
   ],
   "source": [
    "lista = [1,2,3,4,5,6,7,8,9,10,1,2,3,4,5]\n",
    "print(lista)\n",
    "elementos_duplicados = []\n",
    "elementos_unicos = []\n",
    "for elemento in lista:\n",
    "    if lista.count(elemento) > 1:\n",
    "        if elemento not in elementos_duplicados:\n",
    "            elementos_duplicados.append(elemento)\n",
    "        #lista.remove(elementos)    \n",
    "    else:\n",
    "        elementos_unicos.append(elemento)\n",
    "for elemento in elementos_duplicados:\n",
    "    lista.remove(elemento)\n",
    "print(\"Elementos duplicados:\",elementos_duplicados)\n",
    "print(\"Elementos unicos\",elementos_unicos)\n",
    "print (\"Lista sin duplicados:\",lista)\n",
    "\n",
    "\n",
    "\n",
    "\n"
   ]
  },
  {
   "cell_type": "markdown",
   "metadata": {},
   "source": [
    "2. Escribe un programa en Python par unir dos listas y ordenarlas de forma ascendente."
   ]
  },
  {
   "cell_type": "code",
   "execution_count": 8,
   "metadata": {},
   "outputs": [
    {
     "name": "stdout",
     "output_type": "stream",
     "text": [
      "[3, 4, 1, 5, 6, 2, 7, 8]\n",
      "[1, 2, 3, 4, 5, 6, 7, 8]\n"
     ]
    }
   ],
   "source": [
    "lista1 =[3,4, 1, 5]\n",
    "lista2 =[6, 2, 7, 8]\n",
    "\n",
    "lista_combinada = lista1 + lista2\n",
    "print(lista_combinada)\n",
    "lista_combinada.sort()\n",
    "print(lista_combinada)"
   ]
  },
  {
   "cell_type": "markdown",
   "metadata": {},
   "source": [
    "3. Escribe un script que encuentre el segundo número más grande de una lista."
   ]
  },
  {
   "cell_type": "code",
   "execution_count": null,
   "metadata": {},
   "outputs": [],
   "source": [
    "numbers = [1, 2, 3, 4, 5, 6, 7, 8, 9]\n",
    "numbers.sort(reverse=True)\n",
    "print(numbers[1])\n"
   ]
  },
  {
   "cell_type": "markdown",
   "metadata": {},
   "source": [
    "4. Crea un script que cuente el número de elementos más grandes que un determinado número dado por el usuario (supón una lista numérica)."
   ]
  },
  {
   "cell_type": "code",
   "execution_count": 6,
   "metadata": {},
   "outputs": [
    {
     "name": "stdout",
     "output_type": "stream",
     "text": [
      "4\n"
     ]
    }
   ],
   "source": [
    "numeros = [3,4,1,5,6,2,7,8]\n",
    "numero_objetivo = 4\n",
    "\n",
    "contador = 0\n",
    "for num in numeros:\n",
    "    if num > numero_objetivo:\n",
    "        contador += 1\n",
    "\n",
    "print(contador)\n"
   ]
  },
  {
   "cell_type": "markdown",
   "metadata": {},
   "source": [
    "5. Crea un script dado un número introducido por el usuario o determianado a inicio del programa, realice la suma de aquellos números que sean divisibles por éste.\n"
   ]
  },
  {
   "cell_type": "code",
   "execution_count": 2,
   "metadata": {},
   "outputs": [
    {
     "name": "stdout",
     "output_type": "stream",
     "text": [
      "20\n"
     ]
    }
   ],
   "source": [
    "numeros = [3,4,1,5,6,2,7,8]\n",
    "divisor = 2\n",
    "resultado = 0\n",
    "for num in numeros:\n",
    "    if num % divisor == 0:\n",
    "        resultado += num\n",
    "print(resultado)\n"
   ]
  },
  {
   "cell_type": "markdown",
   "metadata": {},
   "source": [
    "6. Escribe un script que pida un númeor al usuario y dada una lista encuentre el número más alto que es inferior al número introducido  por el usuario o \n",
    "determinado al inicio del programa."
   ]
  },
  {
   "cell_type": "code",
   "execution_count": null,
   "metadata": {},
   "outputs": [],
   "source": [
    "numeros = [3,4,1,5,6,2,7,8]\n",
    "numero_objetivo = 4\n",
    "numeros.sort()\n",
    "resultado = 0\n",
    "for num in numeros:\n",
    "    if num < numero_objetivo:\n",
    "        resultado = num\n",
    "print(resultado)"
   ]
  }
 ],
 "metadata": {
  "kernelspec": {
   "display_name": "work",
   "language": "python",
   "name": "python3"
  },
  "language_info": {
   "codemirror_mode": {
    "name": "ipython",
    "version": 3
   },
   "file_extension": ".py",
   "mimetype": "text/x-python",
   "name": "python",
   "nbconvert_exporter": "python",
   "pygments_lexer": "ipython3",
   "version": "3.9.18"
  }
 },
 "nbformat": 4,
 "nbformat_minor": 2
}
