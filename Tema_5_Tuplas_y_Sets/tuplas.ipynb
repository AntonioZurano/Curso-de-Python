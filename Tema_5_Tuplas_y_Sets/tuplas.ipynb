{
 "cells": [
  {
   "cell_type": "markdown",
   "metadata": {},
   "source": [
    "#### 1. Crea una tupla con tres elementos e imprime por pantalla cada uno de los elementos de la tupla.\n",
    "\n"
   ]
  },
  {
   "cell_type": "code",
   "execution_count": 3,
   "metadata": {},
   "outputs": [
    {
     "name": "stdout",
     "output_type": "stream",
     "text": [
      "(1, 2, 3)\n",
      "1\n",
      "2\n",
      "3\n"
     ]
    }
   ],
   "source": [
    "mi_tupla = (1,2,3)\n",
    "print(mi_tupla)\n",
    "for elemento in mi_tupla:\n",
    "    print(elemento)"
   ]
  },
  {
   "cell_type": "markdown",
   "metadata": {},
   "source": [
    "#### 2.Crea una lista con tres elementos e intenta modificarla. Haz lo mismo con la tupla. ¿Cuales son las diferencias?"
   ]
  },
  {
   "cell_type": "code",
   "execution_count": 1,
   "metadata": {},
   "outputs": [
    {
     "name": "stdout",
     "output_type": "stream",
     "text": [
      "[4, 2, 3]\n",
      "(1, 2, 3)\n"
     ]
    }
   ],
   "source": [
    "mi_lista = [1,2,3]\n",
    "mi_lista[0] = 4\n",
    "print(mi_lista)\n",
    "\n",
    "\n",
    "mi_tupla = (1,2,3)\n",
    "#mi_tupla[0] = 4 #esto da error\n",
    "print(mi_tupla)\n"
   ]
  },
  {
   "cell_type": "markdown",
   "metadata": {},
   "source": [
    "#### 3. Crea una tupla de enteros y devuelve la suma de los elementos. "
   ]
  },
  {
   "cell_type": "code",
   "execution_count": 2,
   "metadata": {},
   "outputs": [
    {
     "name": "stdout",
     "output_type": "stream",
     "text": [
      "6\n"
     ]
    }
   ],
   "source": [
    "mi_tupla = (1,2,3)\n",
    "suma = sum (mi_tupla)\n",
    "print(suma)"
   ]
  },
  {
   "cell_type": "markdown",
   "metadata": {},
   "source": [
    "#### 4. Crea un script que dada una tupla que contiene strings cree una nueva tupla con el primer caracter de cada string."
   ]
  },
  {
   "cell_type": "code",
   "execution_count": 4,
   "metadata": {},
   "outputs": [
    {
     "name": "stdout",
     "output_type": "stream",
     "text": [
      "('m', 'p', 'n')\n",
      "('m', 'p', 'n')\n"
     ]
    }
   ],
   "source": [
    "mi_tupla = (\"manzana\",\"platano\",\"naranja\")\n",
    "lista = []\n",
    "for palabra in mi_tupla:\n",
    "    lista.append(palabra[0])\n",
    "mi_nueva_tupla = tuple(lista)\n",
    "print(mi_nueva_tupla)\n",
    "\n",
    "mi_nueva_tupla2 = tuple(palabra[0] for palabra in mi_tupla)\n",
    "print(mi_nueva_tupla2)\n"
   ]
  },
  {
   "cell_type": "markdown",
   "metadata": {},
   "source": [
    "#### 5. Crea un script que dada una tupla de números devuelva el producto de todos los números pares."
   ]
  },
  {
   "cell_type": "code",
   "execution_count": 5,
   "metadata": {},
   "outputs": [
    {
     "name": "stdout",
     "output_type": "stream",
     "text": [
      "48\n"
     ]
    }
   ],
   "source": [
    "mi_tupla = (1,2,3,4,5,6)\n",
    "producto = 1\n",
    "for num in mi_tupla:\n",
    "    if num % 2 == 0:\n",
    "        producto = producto * num\n",
    "print(producto)"
   ]
  },
  {
   "cell_type": "markdown",
   "metadata": {},
   "source": [
    "#### 6. Crea un script que dada una tupla de números, devuelva la tupla con los numeros  en orden descendente."
   ]
  },
  {
   "cell_type": "code",
   "execution_count": 7,
   "metadata": {},
   "outputs": [
    {
     "name": "stdout",
     "output_type": "stream",
     "text": [
      "(8, 7, 6, 5, 4, 3, 2, 1)\n"
     ]
    }
   ],
   "source": [
    "mi_tupla = (4, 1, 6, 2, 8, 3, 5, 7)\n",
    "mi_tupla_reordenada = tuple(sorted(mi_tupla, reverse=True))\n",
    "print(mi_tupla_reordenada)"
   ]
  },
  {
   "cell_type": "markdown",
   "metadata": {},
   "source": [
    "#### 7. Crea un script que dada una tupla con numeros enteros repetidos, elimine los duplicados. (Puedes usar sets)."
   ]
  },
  {
   "cell_type": "code",
   "execution_count": 8,
   "metadata": {},
   "outputs": [
    {
     "name": "stdout",
     "output_type": "stream",
     "text": [
      "(1, 2, 3, 4, 5, 6)\n"
     ]
    }
   ],
   "source": [
    "mi_tupla = (1,1,2,3,4,4,5,6)\n",
    "mi_tupla_sin_repetidos = tuple(set(mi_tupla)) #los set no tienen elementos repetidos\n",
    "print(mi_tupla_sin_repetidos)\n"
   ]
  },
  {
   "cell_type": "markdown",
   "metadata": {},
   "source": [
    "#### 8. Crea un script que dada una tupla y un numero entero, devuelve verdadero si el numero se encuentra en la tupla y falso en el caso contrario."
   ]
  },
  {
   "cell_type": "code",
   "execution_count": null,
   "metadata": {},
   "outputs": [
    {
     "name": "stdout",
     "output_type": "stream",
     "text": [
      "True\n"
     ]
    }
   ],
   "source": [
    "mi_tupla = (1,3,5,7,9)\n",
    "target = 2\n",
    "comprobacion = target in mi_tupla\n",
    "print(comprobacion)"
   ]
  },
  {
   "cell_type": "markdown",
   "metadata": {},
   "source": [
    "#### 9. Crea un script que dadas dos tuplas crea una tupla resultante de la union de ambas."
   ]
  },
  {
   "cell_type": "code",
   "execution_count": 1,
   "metadata": {},
   "outputs": [
    {
     "name": "stdout",
     "output_type": "stream",
     "text": [
      "(1, 2, 3, 4, 5, 6)\n"
     ]
    }
   ],
   "source": [
    "mi_tupla1 = (1,2,3)\n",
    "mi_tupla2 = (4,5,6)\n",
    "mi_tupla3 = mi_tupla1 + mi_tupla2\n",
    "print(mi_tupla3)"
   ]
  },
  {
   "cell_type": "markdown",
   "metadata": {},
   "source": [
    "#### 10. Crea un script que dada una tupla de números devuelva el máximo y el mínimo. "
   ]
  },
  {
   "cell_type": "code",
   "execution_count": 2,
   "metadata": {},
   "outputs": [
    {
     "name": "stdout",
     "output_type": "stream",
     "text": [
      "1\n",
      "6\n"
     ]
    }
   ],
   "source": [
    "mi_tupla = (1,2,3,4,5,6)\n",
    "minimo = min(mi_tupla)\n",
    "maximo = max(mi_tupla)  \n",
    "print(minimo)\n",
    "print(maximo)\n"
   ]
  }
 ],
 "metadata": {
  "kernelspec": {
   "display_name": "Python 3",
   "language": "python",
   "name": "python3"
  },
  "language_info": {
   "codemirror_mode": {
    "name": "ipython",
    "version": 3
   },
   "file_extension": ".py",
   "mimetype": "text/x-python",
   "name": "python",
   "nbconvert_exporter": "python",
   "pygments_lexer": "ipython3",
   "version": "3.10.14"
  }
 },
 "nbformat": 4,
 "nbformat_minor": 2
}
