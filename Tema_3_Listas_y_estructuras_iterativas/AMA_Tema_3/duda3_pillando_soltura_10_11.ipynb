{
 "cells": [
  {
   "cell_type": "markdown",
   "metadata": {},
   "source": [
    "10. Crea un script que tome una lista de strings y cree una nueva lista que contenga el tamaño de los strings de la lista original."
   ]
  },
  {
   "cell_type": "code",
   "execution_count": 1,
   "metadata": {},
   "outputs": [
    {
     "name": "stdout",
     "output_type": "stream",
     "text": [
      "Lista de Strings:  ['hola', 'amigos', 'buenos', 'días']\n",
      "Lista de Longitudes:  [4, 6, 6, 4]\n"
     ]
    }
   ],
   "source": [
    "# lista de nombres\n",
    "lista_strings = [\"hola\", \"amigos\", \"buenos\", \"días\" ]\n",
    "# lista vacia donde guardaremos la longitud de cada palabra\n",
    "lista_longitudes = []\n",
    "\n",
    "# recorremos la lista de nombres\n",
    "for cadena in lista_strings:\n",
    "    longitud = 0 # inicializamos la longitud a 0\n",
    "                 # para sumar cada caracter\n",
    "    # recorremos cada letra de la cadena             \n",
    "    for caracter in cadena: \n",
    "        longitud += 1 # por cada caracter del string sumamos 1\n",
    "    # una vez hemos sumado todos los caracteres de la cadena\n",
    "    # añadimos la suma (variable longitud) a la lista de longitudes\n",
    "    lista_longitudes.append(longitud)\n",
    "\n",
    "# imprimimos los resultados\n",
    "print(\"Lista de Strings: \", lista_strings)\n",
    "print(\"Lista de Longitudes: \", lista_longitudes)"
   ]
  },
  {
   "cell_type": "markdown",
   "metadata": {},
   "source": [
    "11. Crea un programa que dada una lista de strings, devuelva otra lista con los strings en mayúsculas."
   ]
  },
  {
   "cell_type": "code",
   "execution_count": 1,
   "metadata": {},
   "outputs": [
    {
     "name": "stdout",
     "output_type": "stream",
     "text": [
      "Lista de Strings:  ['hola', 'amigos', 'buenos', 'días']\n",
      "Lista de Mayusculas:  ['HOLA', 'AMIGOS', 'BUENOS', 'DÍAS']\n"
     ]
    }
   ],
   "source": [
    "# lista de strings\n",
    "lista_strings = [\"hola\", \"amigos\", \"buenos\", \"días\" ]\n",
    "# lista vacia donde guardaremos la longitud de cada palabra\n",
    "lista_mayusculas = []\n",
    "\n",
    "#recorremos cada objeto de la lista\n",
    "for cadena in lista_strings:\n",
    "    # añadimos a la lista_mayusculas cada objeto de la lista_strings\n",
    "    lista_mayusculas.append(cadena.upper()) # usamos el metodo upper() para convertir cada string\n",
    "                                            # a mayusculas\n",
    "                                            # y lo añadimos a la lista_mayusculas\n",
    "\n",
    "# imprimimos los resultados\n",
    "print(\"Lista de Strings: \", lista_strings)\n",
    "print(\"Lista de Mayusculas: \", lista_mayusculas)\n"
   ]
  },
  {
   "cell_type": "markdown",
   "metadata": {},
   "source": [
    " En esta version vamos a crear la palabra en mayusculas suponiendo que el metodo upper() no existe\n"
   ]
  },
  {
   "cell_type": "code",
   "execution_count": null,
   "metadata": {},
   "outputs": [],
   "source": [
    "# Lista de strings\n",
    "lista_strings = [\"hola\", \"amigos\", \"buenos\", \"días\" ]\n",
    "# lista vacia donde guardaremos la longitud de cada palabra\n",
    "lista_mayusculas = []\n",
    "\n",
    "#recorremos cada objeto de la lista\n",
    "for cadena in lista_strings:\n",
    "    mayuscula=\"\" # creamos un string vacio que contendra \n",
    "                 # la palabra completa en mayusculas\n",
    "# recorremos cada caracter del string\n",
    "for caracter in cadena:\n",
    "    # la funcion ord() nos devuelve el valor ascii de un caracter\n",
    "    # si el valor ascii esta entre 97 y 122 es una letra minuscula\n",
    "    # si es asi, le restamos 32 para convertirlo a mayuscula\n",
    "    if ord(caracter) >= 97 and ord(caracter) <= 122: # si se trata del alfabeto latino\n",
    "                                                     # basico su valor estara entre el 97 y el 122\n",
    "                                                     # la mayuscula correspondiente estara \n",
    "                                                     # 32 posiciones detras\n",
    "        mayuscula += chr(ord(caracter)-32)\n",
    "    else: # si el caracter no esta entre el 97 y el 122 lo añadimos tal cual\n",
    "          # (considramos que es una mayuscula o un caracter desconocido) \n",
    "        mayuscula += caracter\n",
    "\n",
    "    lista_mayusculas.append(mayuscula) # añadimos la palabra completa en mayusculas a la lista_mayusculas\n",
    "\n",
    "# imprimimos los resultados\n",
    "print(\"Lista de Strings: \", lista_strings)\t\n",
    "print(\"Lista de Mayusculas: \", lista_mayusculas)    "
   ]
  }
 ],
 "metadata": {
  "kernelspec": {
   "display_name": "work",
   "language": "python",
   "name": "python3"
  },
  "language_info": {
   "codemirror_mode": {
    "name": "ipython",
    "version": 3
   },
   "file_extension": ".py",
   "mimetype": "text/x-python",
   "name": "python",
   "nbconvert_exporter": "python",
   "pygments_lexer": "ipython3",
   "version": "3.10.14"
  }
 },
 "nbformat": 4,
 "nbformat_minor": 2
}
