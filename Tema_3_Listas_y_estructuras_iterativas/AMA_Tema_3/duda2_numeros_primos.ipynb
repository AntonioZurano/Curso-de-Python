{
 "cells": [
  {
   "cell_type": "markdown",
   "metadata": {},
   "source": [
    "Crea un programa que imprima todos los números primos entre el 2 y el 100. Un número primo es aquel que solo es divisible por 1 y por sí mismo. Nota: Si un numero es divisor del otro el remanente de la división es 0. (resto = 0)"
   ]
  },
  {
   "cell_type": "code",
   "execution_count": null,
   "metadata": {},
   "outputs": [],
   "source": [
    "for num in range (2, 101): # num tomara valores entre 2 y 100\n",
    "\n",
    "    prime = True # Suponemos que num es primo a no ser que se demuestre lo contrario\n",
    "\n",
    "    for i in range(2, num): # i tomara valores entre 2 y num-1\n",
    "\n",
    "        if num % i == 0:  # comprobamos si num es divisible por algun numero \n",
    "                          # entre 2 y num-1\n",
    "            prime = False # si la condicion se cumple entonces sabemos que\n",
    "\n",
    "            break         # que no es un numero primo --> prime = False\n",
    "                          # si comprobamos una vez que el numero no es primo no necesitamos\n",
    "                          # buscar mas divisores del numero luego podemos usar el break\n",
    "                          # para salir del bucle y acortar el tiempo de calculo\n",
    "    if prime: # si el numero es primo lo imprimimos por pantalla\n",
    "        print(num)\n",
    "    # si no es primo simplementes pasamos al siguiente numero    \n",
    "\n"
   ]
  },
  {
   "cell_type": "markdown",
   "metadata": {},
   "source": [
    "Version 2. Bucle interno tipo while."
   ]
  },
  {
   "cell_type": "code",
   "execution_count": 1,
   "metadata": {},
   "outputs": [
    {
     "name": "stdout",
     "output_type": "stream",
     "text": [
      "2\n",
      "3\n",
      "5\n",
      "7\n",
      "11\n",
      "13\n",
      "17\n",
      "19\n",
      "23\n",
      "29\n",
      "31\n",
      "37\n",
      "41\n",
      "43\n",
      "47\n",
      "53\n",
      "59\n",
      "61\n",
      "67\n",
      "71\n",
      "73\n",
      "79\n",
      "83\n",
      "89\n",
      "97\n"
     ]
    }
   ],
   "source": [
    "for num in range (2, 101): # num tomara valores entre 2 y 100\n",
    "\n",
    "    prime = True # Suponemos que num es primo a no ser que se demuestre lo contrario\n",
    "\n",
    "    i = 2 # hacemos que i empiece en 2\n",
    "    while prime == True and i < num: # el bucle terminara si se comprueba que prime es False\n",
    "                                     # o si i es mayor o igual que num\n",
    "        if num % i == 0:             # comprobamos si num es divisible por algun numero \n",
    "                                     # entre 2 y num-1\n",
    "            prime = False            # si la condicion se cumple entonces sabemos que\n",
    "\n",
    "        i += 1                       #aumentamos el valor de i en 1\n",
    "              \n",
    "              \n",
    "              \n",
    "    if prime == True: # si el numero es primo lo imprimimos por pantalla\n",
    "        print(num)\n",
    "    # si no es primo simplementes pasamos al siguiente numero "
   ]
  }
 ],
 "metadata": {
  "kernelspec": {
   "display_name": "work",
   "language": "python",
   "name": "python3"
  },
  "language_info": {
   "codemirror_mode": {
    "name": "ipython",
    "version": 3
   },
   "file_extension": ".py",
   "mimetype": "text/x-python",
   "name": "python",
   "nbconvert_exporter": "python",
   "pygments_lexer": "ipython3",
   "version": "3.10.14"
  }
 },
 "nbformat": 4,
 "nbformat_minor": 2
}
