{
 "cells": [
  {
   "cell_type": "markdown",
   "metadata": {},
   "source": [
    "# Escribe un programa que pida al usuario un número entero y muestre por pantalla una \n",
    "# estructura como la de más abajo, donde el valor de entrada es el número de estrellas en el \n",
    "# centro de la estructura. \n",
    "# * \n",
    "# ** \n",
    "# *** \n",
    "# **** \n",
    "# ***** \n",
    "# **** \n",
    "# *** \n",
    "# ** \n",
    "# *"
   ]
  },
  {
   "cell_type": "code",
   "execution_count": 1,
   "metadata": {},
   "outputs": [
    {
     "name": "stdout",
     "output_type": "stream",
     "text": [
      "*****\n"
     ]
    }
   ],
   "source": [
    "num = 5 #defino una variable tipo int\n",
    "print(\"*\" * num) #multiplico un string por int"
   ]
  },
  {
   "cell_type": "code",
   "execution_count": null,
   "metadata": {},
   "outputs": [],
   "source": [
    "num = 5 #defino una variable tipo int\n",
    "\n",
    "for i in range(1, num + 1): #itero en un rango de 1 a num + 1\n",
    "    print(\"*\" * i) #multiplico un string por i"
   ]
  },
  {
   "cell_type": "code",
   "execution_count": 2,
   "metadata": {},
   "outputs": [
    {
     "name": "stdout",
     "output_type": "stream",
     "text": [
      "*\n",
      "**\n",
      "***\n",
      "****\n",
      "*****\n"
     ]
    }
   ],
   "source": [
    "num = 5 #defino una variable tipo int\n",
    "\n",
    "for i in range(1, num+1): #itero en un rango de 1 a num + 1\n",
    "    print(\"*\" * i) #multiplico un string por i"
   ]
  },
  {
   "cell_type": "code",
   "execution_count": null,
   "metadata": {},
   "outputs": [],
   "source": [
    "num = 5 #defino una variable tipo int\n",
    "\n",
    "for i in range(num, 0, -1): #itero en un rango de num a 0\n",
    "    print(\"*\" * i) #multiplico un string por i"
   ]
  },
  {
   "cell_type": "code",
   "execution_count": 3,
   "metadata": {},
   "outputs": [
    {
     "name": "stdout",
     "output_type": "stream",
     "text": [
      "*\n",
      "**\n",
      "***\n",
      "****\n",
      "*****\n",
      "****\n",
      "***\n",
      "**\n",
      "*\n"
     ]
    }
   ],
   "source": [
    "num = 5 #defino una variable tipo int\n",
    "\n",
    "#combino ambos bucles\n",
    "for i in range(1, num + 1): #itero en un rango de 1 a num + 1\n",
    "    print(\"*\" * i) #multiplico un string por i\n",
    "for i in range(num - 1, 0, -1): #itero en un rango de num - 1 a 0   \n",
    "    print(\"*\" * i) #multiplico un string por i\n",
    "    "
   ]
  },
  {
   "cell_type": "code",
   "execution_count": 5,
   "metadata": {},
   "outputs": [
    {
     "name": "stdout",
     "output_type": "stream",
     "text": [
      "*    \n",
      "**   \n",
      "***  \n",
      "**** \n",
      "*****\n",
      "**** \n",
      "***  \n",
      "**   \n",
      "*    \n"
     ]
    }
   ],
   "source": [
    "num = 5 #defino una variable tipo int\n",
    "\n",
    "for i in range(1, num + 1): #itero en un rango de 1 a num + 1\n",
    "    print(\"*\" * i +\" \" * (num - i)) #multiplico un string por i y le añado un espacio\n",
    "    # primera iteracion: i = 1, num - i = 4, imprime 4 espacios y 1 asterisco \n",
    "    # segunda iteracion: i = 2, num - i = 3, imprime 3 espacios y 2 asteriscos\n",
    "    # tercera iteracion: i = 3, num - i = 2, imprime 2 espacios y 3 asteriscos\n",
    "    # cuarta iteracion: i = 4, num - i = 1, imprime 1 espacio y 4 asteriscos\n",
    "    # quinta iteracion: i = 5, num - i = 0, imprime 0 espacios y 5 asteriscos\n",
    "\n",
    "for i in range (num-1, 0, -1): #itero en un rango de num - 1 a 0\n",
    "    print(\"*\" * i + \" \" * (num - i)) #multiplico un string por i y le añado un espacio\n",
    "    # primera iteracion: i = 4, num - i = 1, imprime 1 espacio y 4 asteriscos\n",
    "    # segunda iteracion: i = 3, num - i = 2, imprime 2 espacios y 3 asteriscos\n",
    "    # tercera iteracion: i = 2, num - i = 3, imprime 3 espacios y 2 asteriscos\n",
    "    # cuarta iteracion: i = 1, num - i = 4, imprime 4 espacios y 1 asterisco\n",
    "    # quinta iteracion: i = 0, num - i = 5, imprime 5 espacios y 0 asteriscos\n"
   ]
  }
 ],
 "metadata": {
  "kernelspec": {
   "display_name": "work",
   "language": "python",
   "name": "python3"
  },
  "language_info": {
   "codemirror_mode": {
    "name": "ipython",
    "version": 3
   },
   "file_extension": ".py",
   "mimetype": "text/x-python",
   "name": "python",
   "nbconvert_exporter": "python",
   "pygments_lexer": "ipython3",
   "version": "3.10.14"
  }
 },
 "nbformat": 4,
 "nbformat_minor": 2
}
