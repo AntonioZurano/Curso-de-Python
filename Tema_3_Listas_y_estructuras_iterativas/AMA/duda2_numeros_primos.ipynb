{
 "cells": [
  {
   "cell_type": "markdown",
   "metadata": {},
   "source": [
    "Crea un programa que imprima todos los números primos entre el 2 y el 100. Un número primo es aquel que solo es divisible por 1 y por sí mismo. Nota: Si un numero es divisor del otro el remanente de la división es 0. (resto = 0)"
   ]
  },
  {
   "cell_type": "code",
   "execution_count": null,
   "metadata": {},
   "outputs": [],
   "source": [
    "for num in range (2, 101): # num tomara valores entre 2 y 100\n",
    "\n",
    "    prime = True # Suponemos que num es primo a no ser que se demuestre lo contrario\n",
    "\n",
    "    for i in range(2, num): # i tomara valores entre 2 y num-1\n",
    "\n",
    "        if num % i == 0:  # comprobamos si num es divisible por algun numero \n",
    "                          # entre 2 y num-1\n",
    "            prime = False # si la condicion se cumple entonces sabemos que\n",
    "\n",
    "            break         # que no es un numero primo --> prime = False\n",
    "                          # si comprobamos una vez que el numero no es primo no necesitamos\n",
    "                          # buscar mas divisores del numero luego podemos usar el break\n",
    "                          # para salir del bucle y acortar el tiempo de calculo\n",
    "    if prime: # si el numero es primo lo imprimimos por pantalla\n",
    "        print(num)\n",
    "    # si no es primo simplementes pasamos al siguiente numero    \n",
    "\n"
   ]
  }
 ],
 "metadata": {
  "kernelspec": {
   "display_name": "work",
   "language": "python",
   "name": "python3"
  },
  "language_info": {
   "name": "python",
   "version": "3.10.14"
  }
 },
 "nbformat": 4,
 "nbformat_minor": 2
}
