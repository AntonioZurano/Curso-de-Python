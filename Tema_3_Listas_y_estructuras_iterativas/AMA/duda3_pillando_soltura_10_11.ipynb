{
 "cells": [
  {
   "cell_type": "markdown",
   "metadata": {},
   "source": [
    "10. Crea un script que tome una lista de strings y cree una nueva lista que contenga el tamaño de los strings de la lista original."
   ]
  },
  {
   "cell_type": "code",
   "execution_count": 1,
   "metadata": {},
   "outputs": [
    {
     "name": "stdout",
     "output_type": "stream",
     "text": [
      "Lista de Strings:  ['hola', 'amigos', 'buenos', 'días']\n",
      "Lista de Longitudes:  [4, 6, 6, 4]\n"
     ]
    }
   ],
   "source": [
    "# lista de nombres\n",
    "lista_strings = [\"hola\", \"amigos\", \"buenos\", \"días\" ]\n",
    "# lista vacia donde guardaremos la longitud de cada palabra\n",
    "lista_longitudes = []\n",
    "\n",
    "# recorremos la lista de nombres\n",
    "for cadena in lista_strings:\n",
    "    longitud = 0 # inicializamos la longitud a 0\n",
    "                 # para sumar cada caracter\n",
    "    # recorremos cada letra de la cadena             \n",
    "    for caracter in cadena: \n",
    "        longitud += 1 # por cada caracter del string sumamos 1\n",
    "    # una vez hemos sumado todos los caracteres de la cadena\n",
    "    # añadimos la suma (variable longitud) a la lista de longitudes\n",
    "    lista_longitudes.append(longitud)\n",
    "\n",
    "# imprimimos los resultados\n",
    "print(\"Lista de Strings: \", lista_strings)\n",
    "print(\"Lista de Longitudes: \", lista_longitudes)"
   ]
  }
 ],
 "metadata": {
  "kernelspec": {
   "display_name": "work",
   "language": "python",
   "name": "python3"
  },
  "language_info": {
   "codemirror_mode": {
    "name": "ipython",
    "version": 3
   },
   "file_extension": ".py",
   "mimetype": "text/x-python",
   "name": "python",
   "nbconvert_exporter": "python",
   "pygments_lexer": "ipython3",
   "version": "3.10.14"
  }
 },
 "nbformat": 4,
 "nbformat_minor": 2
}
